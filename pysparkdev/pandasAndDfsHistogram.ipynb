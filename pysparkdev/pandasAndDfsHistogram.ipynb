{
 "cells": [
  {
   "cell_type": "code",
   "execution_count": 8,
   "metadata": {},
   "outputs": [
    {
     "data": {
      "text/html": [
       "<div>\n",
       "<style>\n",
       "    .dataframe thead tr:only-child th {\n",
       "        text-align: right;\n",
       "    }\n",
       "\n",
       "    .dataframe thead th {\n",
       "        text-align: left;\n",
       "    }\n",
       "\n",
       "    .dataframe tbody tr th {\n",
       "        vertical-align: top;\n",
       "    }\n",
       "</style>\n",
       "<table border=\"1\" class=\"dataframe\">\n",
       "  <thead>\n",
       "    <tr style=\"text-align: right;\">\n",
       "      <th></th>\n",
       "      <th>Date</th>\n",
       "      <th>Description</th>\n",
       "      <th>Original Description</th>\n",
       "      <th>Amount</th>\n",
       "      <th>Transaction Type</th>\n",
       "      <th>Category</th>\n",
       "      <th>Account Name</th>\n",
       "      <th>Labels</th>\n",
       "      <th>Notes</th>\n",
       "    </tr>\n",
       "  </thead>\n",
       "  <tbody>\n",
       "    <tr>\n",
       "      <th>0</th>\n",
       "      <td>1/31/2015</td>\n",
       "      <td>Kroger</td>\n",
       "      <td>KROGER</td>\n",
       "      <td>46.00</td>\n",
       "      <td>debit</td>\n",
       "      <td>Groceries</td>\n",
       "      <td>Costco TrueEarnings Card</td>\n",
       "      <td>NaN</td>\n",
       "      <td>NaN</td>\n",
       "    </tr>\n",
       "    <tr>\n",
       "      <th>1</th>\n",
       "      <td>1/30/2015</td>\n",
       "      <td>Kroger</td>\n",
       "      <td>KROGER #509 0000005080085330339999999502980085...</td>\n",
       "      <td>22.10</td>\n",
       "      <td>debit</td>\n",
       "      <td>Groceries</td>\n",
       "      <td>Costco TrueEarnings Card</td>\n",
       "      <td>NaN</td>\n",
       "      <td>NaN</td>\n",
       "    </tr>\n",
       "    <tr>\n",
       "      <th>2</th>\n",
       "      <td>1/28/2015</td>\n",
       "      <td>Kroger</td>\n",
       "      <td>KROGER #509 0000005080085330339999999502780085...</td>\n",
       "      <td>39.65</td>\n",
       "      <td>debit</td>\n",
       "      <td>Groceries</td>\n",
       "      <td>Costco TrueEarnings Card</td>\n",
       "      <td>NaN</td>\n",
       "      <td>NaN</td>\n",
       "    </tr>\n",
       "    <tr>\n",
       "      <th>3</th>\n",
       "      <td>1/26/2015</td>\n",
       "      <td>Costco</td>\n",
       "      <td>COSTCO WHSE #0205 00GLEN ALLEN012644000   8042...</td>\n",
       "      <td>63.28</td>\n",
       "      <td>debit</td>\n",
       "      <td>Groceries</td>\n",
       "      <td>Costco TrueEarnings Card</td>\n",
       "      <td>NaN</td>\n",
       "      <td>NaN</td>\n",
       "    </tr>\n",
       "    <tr>\n",
       "      <th>4</th>\n",
       "      <td>1/25/2015</td>\n",
       "      <td>Kroger</td>\n",
       "      <td>KROGER #509 0000005080085330339999999502480085...</td>\n",
       "      <td>39.83</td>\n",
       "      <td>debit</td>\n",
       "      <td>Groceries</td>\n",
       "      <td>Costco TrueEarnings Card</td>\n",
       "      <td>NaN</td>\n",
       "      <td>NaN</td>\n",
       "    </tr>\n",
       "  </tbody>\n",
       "</table>\n",
       "</div>"
      ],
      "text/plain": [
       "        Date Description                               Original Description  \\\n",
       "0  1/31/2015      Kroger                                             KROGER   \n",
       "1  1/30/2015      Kroger  KROGER #509 0000005080085330339999999502980085...   \n",
       "2  1/28/2015      Kroger  KROGER #509 0000005080085330339999999502780085...   \n",
       "3  1/26/2015      Costco  COSTCO WHSE #0205 00GLEN ALLEN012644000   8042...   \n",
       "4  1/25/2015      Kroger  KROGER #509 0000005080085330339999999502480085...   \n",
       "\n",
       "   Amount Transaction Type   Category              Account Name  Labels  Notes  \n",
       "0   46.00            debit  Groceries  Costco TrueEarnings Card     NaN    NaN  \n",
       "1   22.10            debit  Groceries  Costco TrueEarnings Card     NaN    NaN  \n",
       "2   39.65            debit  Groceries  Costco TrueEarnings Card     NaN    NaN  \n",
       "3   63.28            debit  Groceries  Costco TrueEarnings Card     NaN    NaN  \n",
       "4   39.83            debit  Groceries  Costco TrueEarnings Card     NaN    NaN  "
      ]
     },
     "execution_count": 8,
     "metadata": {},
     "output_type": "execute_result"
    }
   ],
   "source": [
    "import pandas as pd\n",
    "# Import matplotlib.pyplot as plt\n",
    "import matplotlib.pyplot as plt\n",
    "\n",
    "# Assign filename: file\n",
    "file = \"/mnt/Downloads/Groceries062014to022015.csv\"\n",
    "\n",
    "data = pd.read_csv(file,delimiter=\",\")\n",
    "data.head()\n",
    "\n"
   ]
  },
  {
   "cell_type": "code",
   "execution_count": 27,
   "metadata": {
    "collapsed": true
   },
   "outputs": [],
   "source": [
    "%cp /mnt/Downloads/Groceries062014to022015.csv sampledata/"
   ]
  },
  {
   "cell_type": "code",
   "execution_count": 26,
   "metadata": {},
   "outputs": [
    {
     "data": {
      "text/plain": [
       "0    46.00\n",
       "1    22.10\n",
       "2    39.65\n",
       "3    63.28\n",
       "4    39.83\n",
       "Name: Amount, dtype: float64"
      ]
     },
     "execution_count": 26,
     "metadata": {},
     "output_type": "execute_result"
    }
   ],
   "source": [
    "amt = data[\"Amount\"]\n",
    "amt.head()"
   ]
  },
  {
   "cell_type": "code",
   "execution_count": null,
   "metadata": {
    "collapsed": true
   },
   "outputs": [],
   "source": [
    "# Import file: data\n",
    "data = pd.read_csv(file, sep=',', comment='#', na_values=['Nothing'], header=1)\n",
    "\n",
    "# Print the head of the DataFrame\n",
    "print(data.head())\n",
    "data."
   ]
  },
  {
   "cell_type": "code",
   "execution_count": 15,
   "metadata": {},
   "outputs": [
    {
     "name": "stdout",
     "output_type": "stream",
     "text": [
      "Help on method hist_frame in module pandas.plotting._core:\n",
      "\n",
      "hist_frame(data, column=None, by=None, grid=True, xlabelsize=None, xrot=None, ylabelsize=None, yrot=None, ax=None, sharex=False, sharey=False, figsize=None, layout=None, bins=10, **kwds) unbound pandas.core.frame.DataFrame method\n",
      "    Draw histogram of the DataFrame's series using matplotlib / pylab.\n",
      "    \n",
      "    Parameters\n",
      "    ----------\n",
      "    data : DataFrame\n",
      "    column : string or sequence\n",
      "        If passed, will be used to limit data to a subset of columns\n",
      "    by : object, optional\n",
      "        If passed, then used to form histograms for separate groups\n",
      "    grid : boolean, default True\n",
      "        Whether to show axis grid lines\n",
      "    xlabelsize : int, default None\n",
      "        If specified changes the x-axis label size\n",
      "    xrot : float, default None\n",
      "        rotation of x axis labels\n",
      "    ylabelsize : int, default None\n",
      "        If specified changes the y-axis label size\n",
      "    yrot : float, default None\n",
      "        rotation of y axis labels\n",
      "    ax : matplotlib axes object, default None\n",
      "    sharex : boolean, default True if ax is None else False\n",
      "        In case subplots=True, share x axis and set some x axis labels to\n",
      "        invisible; defaults to True if ax is None otherwise False if an ax\n",
      "        is passed in; Be aware, that passing in both an ax and sharex=True\n",
      "        will alter all x axis labels for all subplots in a figure!\n",
      "    sharey : boolean, default False\n",
      "        In case subplots=True, share y axis and set some y axis labels to\n",
      "        invisible\n",
      "    figsize : tuple\n",
      "        The size of the figure to create in inches by default\n",
      "    layout : tuple, optional\n",
      "        Tuple of (rows, columns) for the layout of the histograms\n",
      "    bins : integer, default 10\n",
      "        Number of histogram bins to be used\n",
      "    kwds : other plotting keyword arguments\n",
      "        To be passed to hist function\n",
      "\n"
     ]
    }
   ],
   "source": [
    "help(pd.DataFrame.hist)"
   ]
  },
  {
   "cell_type": "code",
   "execution_count": 21,
   "metadata": {},
   "outputs": [
    {
     "data": {
      "image/png": "[encoded data removed]",
      "text/plain": [
       "<matplotlib.figure.Figure at 0x7ff9361895d0>"
      ]
     },
     "metadata": {},
     "output_type": "display_data"
    }
   ],
   "source": [
    "# Plot variable in a histogram\n",
    "pd.DataFrame.hist(data[['Amount']], bins=25)\n",
    "plt.xlabel('Amounts')\n",
    "plt.ylabel('count')\n",
    "plt.show()"
   ]
  },
  {
   "cell_type": "code",
   "execution_count": null,
   "metadata": {
    "collapsed": true
   },
   "outputs": [],
   "source": []
  }
 ],
 "metadata": {
  "kernelspec": {
   "display_name": "Python 2",
   "language": "python",
   "name": "python2"
  },
  "language_info": {
   "codemirror_mode": {
    "name": "ipython",
    "version": 2
   },
   "file_extension": ".py",
   "mimetype": "text/x-python",
   "name": "python",
   "nbconvert_exporter": "python",
   "pygments_lexer": "ipython2",
   "version": "2.7.12"
  }
 },
 "nbformat": 4,
 "nbformat_minor": 2
}
