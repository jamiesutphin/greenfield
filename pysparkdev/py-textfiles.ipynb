{
 "cells": [
  {
   "cell_type": "code",
   "execution_count": 1,
   "metadata": {},
   "outputs": [
    {
     "name": "stdout",
     "output_type": "stream",
     "text": [
      "total 35092\r\n",
      "-rw-rw-r--  1 jamie jamie  6975718 Jul 21 11:00 ghcnd-stations.txt\r\n",
      "drwxr-xr-x  8 jamie jamie     4096 Mar 15 04:35 \u001b[0m\u001b[01;34mjdk1.8.0_131\u001b[0m/\r\n",
      "-rwxrwxr-x  1 jamie jamie      262 Aug 30 13:47 \u001b[01;32mjobInfo.properties\u001b[0m*\r\n",
      "drwxrwxr-x  3 jamie jamie     4096 Aug 29 08:59 \u001b[01;34mPycharm\u001b[0m/\r\n",
      "-rw-rw-r--  1 jamie jamie 28917457 Jul 21 10:52 recs2009_public.csv\r\n",
      "-rwxr-xr-x  1 jamie jamie      194 Jun  8 13:34 \u001b[01;32mTalend-Studio-linux-gtk-x86_64.ini\u001b[0m*\r\n",
      "-rw-rw-r--  1 jamie jamie     9305 Jul 26 09:35 Untitled7.ipynb\r\n",
      "drwxr-xr-x 11 jamie jamie     4096 Mar  2  2012 \u001b[01;34mxulrunner\u001b[0m/\r\n"
     ]
    }
   ],
   "source": [
    "%ls -l ~/Downloads"
   ]
  },
  {
   "cell_type": "code",
   "execution_count": 28,
   "metadata": {
    "collapsed": true
   },
   "outputs": [],
   "source": [
    "file = open(\"/home/jamie/Downloads/ghcnd-stations.txt\" , \"r\")"
   ]
  },
  {
   "cell_type": "code",
   "execution_count": 1,
   "metadata": {},
   "outputs": [
    {
     "data": {
      "text/plain": [
       "<attribute 'closed' of 'file' objects>"
      ]
     },
     "execution_count": 1,
     "metadata": {},
     "output_type": "execute_result"
    }
   ],
   "source": [
    "file.closed"
   ]
  },
  {
   "cell_type": "code",
   "execution_count": 12,
   "metadata": {},
   "outputs": [
    {
     "data": {
      "text/plain": [
       "'/home/jamie/Downloads/ghcnd-stations.txt'"
      ]
     },
     "execution_count": 12,
     "metadata": {},
     "output_type": "execute_result"
    }
   ],
   "source": [
    "file.name"
   ]
  },
  {
   "cell_type": "code",
   "execution_count": 30,
   "metadata": {},
   "outputs": [
    {
     "name": "stdout",
     "output_type": "stream",
     "text": [
      "AM000037711  40.8670   45.1500  733.0    IDJEVAN                                37711\n",
      "\n"
     ]
    }
   ],
   "source": [
    "print(file.readline())"
   ]
  },
  {
   "cell_type": "code",
   "execution_count": 31,
   "metadata": {},
   "outputs": [
    {
     "name": "stdout",
     "output_type": "stream",
     "text": [
      "['AM000037713  40.9000   45.5000  692.0    BERD                                   37713\\n', 'AM000037719  40.6000   45.3500 1834.0    CHAMBARAK                              37719\\n', 'AM000037772  40.4000   43.9000 1637.0    TALIN                                  37772\\n', 'AM000037773  40.5000   43.9000 2151.0    GARNOVIT                               37773\\n', 'AM000037774  40.3170   43.6670 1255.0    ARAGATS                                37774\\n', 'AM000037781  40.5000   44.2000 3223.0    ARAGAC VISOKOGORNAYA           GSN     37781\\n', 'AM000037782  40.4000   44.3000 1893.0    AMBERD (KOSHABULAKH)                   37782\\n', 'AM000037785  40.3000   44.4000 1092.0    ASTARAK                                37785\\n', 'AM000037786  40.3000   44.5000 1339.0    EGVARD                                 37786\\n', 'AM000037787  40.1330   44.0500  865.0    ARMAVIR                                37787\\n', 'AM000037789  40.2000   44.5000 1113.0    YEREVAN                                37789\\n', 'AM000037791  40.4000   44.6830 1800.0    FANTAN                                 37791\\n', 'AM000037792  40.4830   44.7500 1761.0    HRAZDAN                                37792\\n', 'AM000037798  40.1000   44.7000 1427.0    GARNI                                  37798\\n', 'AM000037801  40.3500   45.1331 1961.0    GAVAR                                  37801\\n', 'AM000037802  40.5000   45.3000 1929.0    SHORJA                                 37802\\n', 'AM000037808  40.5000   45.3000 1943.0    MARTUNI                                37808\\n', 'AM000037815  40.2000   45.7500 1940.0    MASRIK                                 37815\\n', 'AM000037871  39.8170   44.5670  822.0    ARARAT                                 37874\\n', 'AM000037872  39.9000   44.9000 1064.0    URCADZOR                               37872\\n', 'AM000037873  40.0000   45.2300 2334.0    YANYKH                                 37873\\n', 'AM000037874  39.7670   45.3330 1317.0    EHGNADZOR                              37876\\n', 'AM000037875  39.7000   45.2000 1008.0    ARENY                                  37875\\n', 'AM000037876  39.8000   45.4000 1312.0    EHEGNADZOR                             37876\\n', 'AM000037878  39.8000   45.0000 2130.0    BESIIMYANNIY,PEREVAL                   37878\\n', 'AM000037880  39.7000   45.7000 2392.0    KOCHBEC                                37880\\n', \"AM000037884  39.8000   45.8000 2075.0    D'ERMUK                                37884\\n\", 'AM000037887  39.6000   45.5000 1942.0    MARTIROS                               37887\\n', 'AM000037897  39.5330   46.0170 1581.0    SISIAN                                 37897\\n', 'AM000037954  39.2000   46.2000 2574.0    KADJARAN                               37954\\n', 'AM000037958  38.9000   46.2500  628.0    MEGRI                                  37958\\n', 'AM000037959  39.2000   46.4330  706.0    KAPAN                                  37959\\n', 'AO000066160  -8.8500   13.2330   74.0    LUANDA                         GSN     66160\\n', 'AO000066270 -11.4170   15.1170 1304.0    WAKU KUNGU (CELA)              GSN     66270\\n', 'AO000066390 -14.9330   13.5670 1761.0    LUBANGO (SA DA BAND            GSN     66390\\n', 'AO000066410 -14.6500   17.6830 1343.0    MENONGUE (SERPA PIN            GSN     66410\\n', 'AO000066422 -15.2000   12.1500   45.0    MOCAMEDES                      GSN     66422\\n', 'AO000066447 -15.8330   20.3500 1088.0    MAVINGA                        GSN     66447\\n', 'AQC00914000 -14.3167 -170.7667  408.4 AS AASUFOU                                     \\n', 'AQC00914005 -14.2667 -170.6500  182.9 AS AFONO                                       \\n', 'AQC00914021 -14.2667 -170.5833    6.1 AS AMOULI TUTUILA                              \\n', 'AQC00914060 -14.2667 -170.6833   80.8 AS ATUU                                        \\n', 'AQC00914135 -14.3000 -170.7000  249.9 AS FAGA ALU RSVR                               \\n', 'AQC00914138 -14.2833 -170.6833   24.1 AS FAGA ALU STREAM                             \\n', 'AQC00914145 -14.2833 -170.7167   14.9 AS FAGASA TUTUILA                              \\n', 'AQC00914149 -14.2833 -170.6833   57.0 AS FAGA TOGO                                   \\n', 'AQC00914188 -14.2167 -168.5333    6.1 AS FALEASAO TAU                                \\n', 'AQC00914248 -14.2333 -169.5167    4.9 AS FALEASAO VILLAGE                            \\n', 'AQC00914397 -14.3500 -170.7833    6.1 AS LEONE                                       \\n', 'AQC00914424 -14.2333 -169.5167    6.1 AS LUMA VILLAGE                                \\n', 'AQC00914594 -14.3333 -170.7667   42.4 AS MALAELOA                                    \\n', 'AQC00914650 -14.1667 -169.7167    3.0 AS OFU                                         \\n', 'AQC00914822 -11.0500 -171.0833    3.0 AS SWAIN ISLAND                                \\n', 'AQC00914869 -14.3333 -170.7167    3.0 AS TAFUNA AP TUTUILA                           \\n', 'AQC00914873 -14.3500 -170.7667   14.9 AS TAPUTIMU TUTUILA                            \\n', 'AQC00914902 -14.2728 -170.6922   80.8 AS VAIPITO                                     \\n', 'AQC00914912 -14.2500 -170.6667    3.0 AS VATIA                                       \\n', 'AQW00061705 -14.3306 -170.7136    3.7 AS PAGO PAGO WSO AP               GSN     91765\\n', 'AR000000001 -29.6000  -58.1500  109.0    BAIBENE                                     \\n', 'AR000000002 -29.8200  -57.4200   75.0    BONPLAND                                    \\n', 'AR000000003 -29.9800  -58.2800   90.0    CAZADORES CORRENTINOS                       \\n', 'AR000000004 -30.7800  -58.1500   71.0    CHAJAR355                                   \\n', 'AR000000005 -30.0300  -57.8200   74.0    COLONIA LIBERTAD                            \\n', 'AR000000006 -31.3800  -58.0200   38.0    CONCORDIA                                   \\n', 'AR000000007 -30.5800  -58.4500   72.0    CONQUISTADORES                              \\n', 'AR000000008 -29.7830  -57.9830   70.0    CURUZU CUATIA AERO                     87286\\n', 'AR000000009 -31.0000  -57.9000   38.0    FEDERACI/363N                               \\n', 'AR000000010 -30.6800  -57.8200   37.0    MOCORETA LAGO                               \\n', 'AR000000011 -30.2670  -57.6500   53.0    MONTE CASEROS AERO                     87393\\n', 'AR000000012 -29.7300  -57.0800   58.0    PASO DE LOS LIBRES                          \\n', 'AR000000013 -30.4200  -57.8500   86.0    PUJOL                                       \\n', 'AR000000014 -31.0800  -58.2800   70.0    REDOM363N                                   \\n', 'AR000000015 -30.0300  -58.3000   83.0    SAN JAIME DE ARRUABARRENA                   \\n', 'AR000000016 -29.3700  -58.1800  110.0    SOLARI                                      \\n', 'AR000087007 -22.1000  -65.6000 3479.0    LA QUIACA OBSERVATO            GSN     87007\\n', 'AR000087065 -24.1670  -62.9000  205.0    RIVADAVIA                      GSN     87065\\n', 'AR000087078 -24.7000  -60.5830  130.0    LAS LOMITAS                    GSN     87078\\n', 'AR000087129 -27.7670  -64.3000  200.0    SANTIAGO DEL ESTERO            GSN     87129\\n', 'AR000087155 -27.4500  -59.0500   53.0    RESISTENCIA AERO               GSN     87155\\n', 'AR000087217 -29.3830  -66.8170  438.0    LA RIOJA AERO.                 GSN     87217\\n', 'AR000087257 -29.8830  -61.9500   88.0    CERES AERO                     GSN     87257\\n', 'AR000087270 -29.1830  -59.7000   53.0    RECONQUISTA AERO               GSN     87270\\n', 'AR000087344 -31.3170  -64.2170  489.0    CORDOBA AERO                   GSN     87344\\n', 'AR000087374 -31.7830  -60.4830   74.0    PARANA AERO                    GSN     87374\\n', 'AR000087418 -32.8330  -68.7830  704.0    MENDOZA AERO                   GSN     87418\\n', 'AR000087534 -34.1330  -63.3670  137.0    LABOULAYE AERO                 GSN     87534\\n', 'AR000087623 -36.5670  -64.2660  192.0    SANTA ROSA AERO                GSN     87623\\n', 'AR000087692 -37.9330  -57.5830   22.0    MAR DEL PLATA AERO             GSN     87692\\n', 'AR000087715 -38.9500  -68.1330  273.0    NEUQUEN AERO                   GSN     87715\\n', 'AR000087803 -42.9330  -71.1500  799.0    ESQUEL AERO                    GSN     87803\\n', 'AR000087828 -43.2000  -65.2660   43.0    TRELEW AERO                    GSN     87828\\n', 'AR000087860 -45.7830  -67.5000   58.0    COMODORO RIVADAVIA             GSN     87860\\n', 'AR000087925 -51.6170  -69.2830   19.0    RIO GALLEGOS AERO              GSN     87925\\n', 'AR000870470 -24.8500  -65.4830 1246.0    SALTA AERO                     GSN     87047\\n', 'AR000873050 -30.2500  -68.7500 1175.0    JACHAL                         GSN     87305\\n', 'AR000875440 -35.8670  -61.9000   85.0    PEHUAJO AERO                   GSN     87544\\n']\n"
     ]
    }
   ],
   "source": [
    "print(file.readlines(2))"
   ]
  },
  {
   "cell_type": "code",
   "execution_count": 27,
   "metadata": {
    "collapsed": true
   },
   "outputs": [],
   "source": [
    "file.close()"
   ]
  },
  {
   "cell_type": "code",
   "execution_count": null,
   "metadata": {
    "collapsed": true
   },
   "outputs": [],
   "source": [
    "\"\"\"\n",
    "\n",
    "\n",
    "\"\"\""
   ]
  }
 ],
 "metadata": {
  "kernelspec": {
   "display_name": "Python 2",
   "language": "python",
   "name": "python2"
  },
  "language_info": {
   "codemirror_mode": {
    "name": "ipython",
    "version": 2
   },
   "file_extension": ".py",
   "mimetype": "text/x-python",
   "name": "python",
   "nbconvert_exporter": "python",
   "pygments_lexer": "ipython2",
   "version": "2.7.12"
  }
 },
 "nbformat": 4,
 "nbformat_minor": 2
}
