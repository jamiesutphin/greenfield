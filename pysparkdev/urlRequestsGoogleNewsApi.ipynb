{
 "cells": [
  {
   "cell_type": "code",
   "execution_count": 3,
   "metadata": {
    "collapsed": true
   },
   "outputs": [],
   "source": [
    "myemail = \"jamie.sutphin@gmail.com\"\n",
    "mykey = \"b7f5b69b27d74630a50a41175083f526\"\n",
    "url = \"https://newsapi.org/v1/articles?source=techcrunch&apiKey=\" + mykey"
   ]
  },
  {
   "cell_type": "code",
   "execution_count": 4,
   "metadata": {
    "collapsed": true
   },
   "outputs": [],
   "source": [
    "import requests"
   ]
  },
  {
   "cell_type": "code",
   "execution_count": 6,
   "metadata": {},
   "outputs": [],
   "source": [
    "response = requests.get(url)"
   ]
  },
  {
   "cell_type": "code",
   "execution_count": 7,
   "metadata": {},
   "outputs": [
    {
     "data": {
      "text/plain": [
       "'{\"status\":\"ok\",\"source\":\"techcrunch\",\"sortBy\":\"top\",\"articles\":[{\"author\":\"Josh Constine\",\"title\":\"Google reportedly offered $30 billion to acquire\\xc2\\xa0Snapchat\",\"description\":\"Nerdy Google has failed at social time and time again, so it considered buying teen sensation Snapchat. According to reports, the search giant held informal..\",\"url\":\"https://techcrunch.com/2017/08/03/google-buy-snap/\",\"urlToImage\":\"https://tctechcrunch2011.files.wordpress.com/2017/08/google-acquire-snapchat.png?w=764&h=400&crop=1\",\"publishedAt\":\"2017-08-03T20:18:25Z\"},{\"author\":\"Darrell Etherington\",\"title\":\"Elon Musk reportedly planning to build his own Hyperloop for tunnel\\xc2\\xa0system\",\"description\":\"Elon Musk might make his own Hyperloop after all, according to a new report from Bloomberg. The Tesla and SpaceX CEO is said to be planning to build the..\",\"url\":\"https://techcrunch.com/2017/08/04/elon-musk-reportedly-planning-to-build-his-own-hyperloop-for-tunnel-system/\",\"urlToImage\":\"https://tctechcrunch2011.files.wordpress.com/2016/09/spacex-hyperloop1.jpg?w=764&h=400&crop=1\",\"publishedAt\":\"2017-08-04T13:33:15Z\"},{\"author\":\"Matthew Lynley\",\"title\":\"Yelp is selling Eat24 to GrubHub for $287.5M and the stock is\\xc2\\xa0skyrocketing\",\"description\":\"Two huge pieces of news today from Yelp, the company that shows up first in your Google search for a restaurant: first, GrubHub is acquiring food delivery..\",\"url\":\"https://techcrunch.com/2017/08/03/yelp-is-offloading-eat24-to-grubhub-for-287-5m-and-the-stock-is-skyrocketing/\",\"urlToImage\":\"https://tctechcrunch2011.files.wordpress.com/2017/04/yelpeat24_marble-42.jpg?w=764&h=400&crop=1\",\"publishedAt\":\"2017-08-03T20:32:10Z\"},{\"author\":\"Matt Burns\",\"title\":\"Cadillac\\xe2\\x80\\x99s Super Cruise \\xe2\\x80\\x98autopilot\\xe2\\x80\\x99 is ready for the\\xc2\\xa0expressway\",\"description\":\"\\\\\"Wait for the green light and let go,\\\\\" the Cadillac engineer instructed. That\\xe2\\x80\\x99s it. The car was driving itself. I, the person behind the steering wheel, was..\",\"url\":\"https://techcrunch.com/2017/08/03/cadillacs-super-cruise-autopilot-is-ready-for-the-expressway/\",\"urlToImage\":\"https://tctechcrunch2011.files.wordpress.com/2017/08/cadillac-1-of-1-2.jpg?w=764&h=400&crop=1\",\"publishedAt\":\"2017-08-03T19:18:49Z\"}]}'"
      ]
     },
     "execution_count": 7,
     "metadata": {},
     "output_type": "execute_result"
    }
   ],
   "source": [
    "response.content"
   ]
  },
  {
   "cell_type": "code",
   "execution_count": null,
   "metadata": {
    "collapsed": true
   },
   "outputs": [],
   "source": []
  }
 ],
 "metadata": {
  "kernelspec": {
   "display_name": "Python 2",
   "language": "python",
   "name": "python2"
  },
  "language_info": {
   "codemirror_mode": {
    "name": "ipython",
    "version": 2
   },
   "file_extension": ".py",
   "mimetype": "text/x-python",
   "name": "python",
   "nbconvert_exporter": "python",
   "pygments_lexer": "ipython2",
   "version": "2.7.12"
  }
 },
 "nbformat": 4,
 "nbformat_minor": 2
}
