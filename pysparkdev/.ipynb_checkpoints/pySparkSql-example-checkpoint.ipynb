{
 "cells": [
  {
   "cell_type": "code",
   "execution_count": 1,
   "metadata": {
    "collapsed": true
   },
   "outputs": [],
   "source": [
    "from pyspark.sql import SparkSession\n",
    "\n",
    "spark = SparkSession \\\n",
    "    .builder \\\n",
    "    .appName(\"Python Spark SQL basic example\") \\\n",
    "    .config(\"spark.some.config.option\", \"some-value\") \\\n",
    "    .getOrCreate()"
   ]
  },
  {
   "cell_type": "code",
   "execution_count": 2,
   "metadata": {
    "collapsed": true
   },
   "outputs": [],
   "source": [
    "df = spark.read.text(\"/etc/passwd\")"
   ]
  },
  {
   "cell_type": "code",
   "execution_count": 4,
   "metadata": {},
   "outputs": [],
   "source": [
    "df2 = spark.read.csv(path=\"/etc/passwd\", sep=\":\")"
   ]
  },
  {
   "cell_type": "code",
   "execution_count": 5,
   "metadata": {},
   "outputs": [
    {
     "name": "stdout",
     "output_type": "stream",
     "text": [
      "+----------------+---+-----+-----+--------------------+------------------+-----------------+\n",
      "|             _c0|_c1|  _c2|  _c3|                 _c4|               _c5|              _c6|\n",
      "+----------------+---+-----+-----+--------------------+------------------+-----------------+\n",
      "|            root|  x|    0|    0|                root|             /root|        /bin/bash|\n",
      "|          daemon|  x|    1|    1|              daemon|         /usr/sbin|/usr/sbin/nologin|\n",
      "|             bin|  x|    2|    2|                 bin|              /bin|/usr/sbin/nologin|\n",
      "|             sys|  x|    3|    3|                 sys|              /dev|/usr/sbin/nologin|\n",
      "|            sync|  x|    4|65534|                sync|              /bin|        /bin/sync|\n",
      "|           games|  x|    5|   60|               games|        /usr/games|/usr/sbin/nologin|\n",
      "|             man|  x|    6|   12|                 man|    /var/cache/man|/usr/sbin/nologin|\n",
      "|              lp|  x|    7|    7|                  lp|    /var/spool/lpd|/usr/sbin/nologin|\n",
      "|            mail|  x|    8|    8|                mail|         /var/mail|/usr/sbin/nologin|\n",
      "|            news|  x|    9|    9|                news|   /var/spool/news|/usr/sbin/nologin|\n",
      "|            uucp|  x|   10|   10|                uucp|   /var/spool/uucp|/usr/sbin/nologin|\n",
      "|           proxy|  x|   13|   13|               proxy|              /bin|/usr/sbin/nologin|\n",
      "|        www-data|  x|   33|   33|            www-data|          /var/www|/usr/sbin/nologin|\n",
      "|          backup|  x|   34|   34|              backup|      /var/backups|/usr/sbin/nologin|\n",
      "|            list|  x|   38|   38|Mailing List Manager|         /var/list|/usr/sbin/nologin|\n",
      "|             irc|  x|   39|   39|                ircd|     /var/run/ircd|/usr/sbin/nologin|\n",
      "|           gnats|  x|   41|   41|Gnats Bug-Reporti...|    /var/lib/gnats|/usr/sbin/nologin|\n",
      "|          nobody|  x|65534|65534|              nobody|      /nonexistent|/usr/sbin/nologin|\n",
      "|systemd-timesync|  x|  100|  102|systemd Time Sync...|      /run/systemd|       /bin/false|\n",
      "| systemd-network|  x|  101|  103|systemd Network M...|/run/systemd/netif|       /bin/false|\n",
      "+----------------+---+-----+-----+--------------------+------------------+-----------------+\n",
      "only showing top 20 rows\n",
      "\n"
     ]
    }
   ],
   "source": [
    "df2.show()"
   ]
  },
  {
   "cell_type": "code",
   "execution_count": 6,
   "metadata": {},
   "outputs": [
    {
     "data": {
      "text/plain": [
       "['_c0', '_c1', '_c2', '_c3', '_c4', '_c5', '_c6']"
      ]
     },
     "execution_count": 6,
     "metadata": {},
     "output_type": "execute_result"
    }
   ],
   "source": [
    "df2.columns"
   ]
  },
  {
   "cell_type": "code",
   "execution_count": 16,
   "metadata": {},
   "outputs": [],
   "source": [
    "df3 = df2.select(\"_c0\")"
   ]
  },
  {
   "cell_type": "code",
   "execution_count": 17,
   "metadata": {},
   "outputs": [
    {
     "data": {
      "text/plain": [
       "42"
      ]
     },
     "execution_count": 17,
     "metadata": {},
     "output_type": "execute_result"
    }
   ],
   "source": [
    "df3.count()"
   ]
  },
  {
   "cell_type": "code",
   "execution_count": 19,
   "metadata": {
    "collapsed": true
   },
   "outputs": [],
   "source": [
    "sqldf = df2.createOrReplaceTempView(\"users\")"
   ]
  },
  {
   "cell_type": "code",
   "execution_count": null,
   "metadata": {
    "collapsed": true
   },
   "outputs": [],
   "source": []
  }
 ],
 "metadata": {
  "kernelspec": {
   "display_name": "Python 2",
   "language": "python",
   "name": "python2"
  },
  "language_info": {
   "codemirror_mode": {
    "name": "ipython",
    "version": 2
   },
   "file_extension": ".py",
   "mimetype": "text/x-python",
   "name": "python",
   "nbconvert_exporter": "python",
   "pygments_lexer": "ipython2",
   "version": "2.7.12"
  }
 },
 "nbformat": 4,
 "nbformat_minor": 2
}
