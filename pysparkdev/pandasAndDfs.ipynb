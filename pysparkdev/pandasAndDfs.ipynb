{
 "cells": [
  {
   "cell_type": "code",
   "execution_count": 4,
   "metadata": {
    "scrolled": true
   },
   "outputs": [
    {
     "name": "stdout",
     "output_type": "stream",
     "text": [
      "        Date Description                               Original Description  \\\n",
      "0  1/31/2015      Kroger                                             KROGER   \n",
      "1  1/30/2015      Kroger  KROGER #509 0000005080085330339999999502980085...   \n",
      "2  1/28/2015      Kroger  KROGER #509 0000005080085330339999999502780085...   \n",
      "3  1/26/2015      Costco  COSTCO WHSE #0205 00GLEN ALLEN012644000   8042...   \n",
      "4  1/25/2015      Kroger  KROGER #509 0000005080085330339999999502480085...   \n",
      "\n",
      "   Amount Transaction Type   Category              Account Name  Labels  Notes  \n",
      "0   46.00            debit  Groceries  Costco TrueEarnings Card     NaN    NaN  \n",
      "1   22.10            debit  Groceries  Costco TrueEarnings Card     NaN    NaN  \n",
      "2   39.65            debit  Groceries  Costco TrueEarnings Card     NaN    NaN  \n",
      "3   63.28            debit  Groceries  Costco TrueEarnings Card     NaN    NaN  \n",
      "4   39.83            debit  Groceries  Costco TrueEarnings Card     NaN    NaN  \n"
     ]
    }
   ],
   "source": [
    "# Import pandas as pd\n",
    "import pandas as pd\n",
    "\n",
    "\n",
    "# Assign the filename: file\n",
    "file = \"/mnt/Downloads/Groceries062014to022015.csv\"\n",
    "\n",
    "# Read the file into a DataFrame: df\n",
    "df = pd.read_csv(file)\n",
    "\n",
    "#Examples\n",
    "# data = pd.read_csv(file, sep='\\t', comment='#', na_values=['Nothing'])\n",
    "# Read the first 5 rows of the file into a DataFrame: data\n",
    "#data = pd.read_csv(file, nrows=5, header=None)\n",
    "\n",
    "# Build a numpy array from the DataFrame: data_array\n",
    "#data_array = data.values\n",
    "\n",
    "# Print the datatype of data_array to the shell\n",
    "#print(type(data_array))\n",
    "\n",
    "# View the head of the DataFrame\n",
    "print(df.head())"
   ]
  },
  {
   "cell_type": "code",
   "execution_count": 2,
   "metadata": {},
   "outputs": [
    {
     "name": "stdout",
     "output_type": "stream",
     "text": [
      "-rwxrwxrwx 1 root root 359949919 Aug  1 11:05 \u001b[0m\u001b[01;32m/mnt/Downloads/Consumer_Complaints.csv\u001b[0m*\r\n",
      "-rwxrwxrwx 1 root root     91491 Feb  1  2015 \u001b[01;32m/mnt/Downloads/Groceries062014to022015.csv\u001b[0m*\r\n"
     ]
    }
   ],
   "source": [
    "csvfile = \"/mnt/Downloads/Groceries062014to022015.csv\""
   ]
  },
  {
   "cell_type": "code",
   "execution_count": null,
   "metadata": {
    "collapsed": true
   },
   "outputs": [],
   "source": []
  }
 ],
 "metadata": {
  "kernelspec": {
   "display_name": "Python 2",
   "language": "python",
   "name": "python2"
  },
  "language_info": {
   "codemirror_mode": {
    "name": "ipython",
    "version": 2
   },
   "file_extension": ".py",
   "mimetype": "text/x-python",
   "name": "python",
   "nbconvert_exporter": "python",
   "pygments_lexer": "ipython2",
   "version": "2.7.12"
  }
 },
 "nbformat": 4,
 "nbformat_minor": 2
}
